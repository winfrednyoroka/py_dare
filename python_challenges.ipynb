{
 "cells": [
  {
   "cell_type": "markdown",
   "id": "c27efbab-9fd5-4a8c-9572-0c57f0df67d0",
   "metadata": {},
   "source": [
    "# 50 day challenges"
   ]
  },
  {
   "cell_type": "markdown",
   "id": "4fed48b2-9d08-49ed-be9a-0de597146af8",
   "metadata": {},
   "source": [
    "# Division_squaroot   \n",
    "Write a function called divide_or_square that takes one argument (a number) and returns the square root of the number if it is divisible by 5, or its remainder if it is not divisible by 5. For example, if you pass 10 as an argument, then your function should return 3.16 as the square root."
   ]
  },
  {
   "cell_type": "code",
   "execution_count": 43,
   "id": "65cf101e-63fb-4aa1-9289-d543f2888d3d",
   "metadata": {},
   "outputs": [],
   "source": [
    "def divide_or_square(n):\n",
    "    '''\n",
    "    n - is an argument\n",
    "    n-type (positive integer)\n",
    "    '''\n",
    "    if (n%5)==0:\n",
    "        ans=n**(1/2) # square root if the modulus of 5 is zero\n",
    "    else:\n",
    "        ans=n%5 #\n",
    "    return(ans)"
   ]
  },
  {
   "cell_type": "code",
   "execution_count": 57,
   "id": "2503ecef-96f6-4dde-871f-8232871de58c",
   "metadata": {},
   "outputs": [
    {
     "name": "stdout",
     "output_type": "stream",
     "text": [
      "3.1622776601683795\n",
      "2\n"
     ]
    },
    {
     "data": {
      "text/plain": [
       "-2.0"
      ]
     },
     "execution_count": 57,
     "metadata": {},
     "output_type": "execute_result"
    }
   ],
   "source": [
    "print(divide_or_square(10))\n",
    "print(divide_or_square(7))\n"
   ]
  },
  {
   "cell_type": "markdown",
   "id": "c8417cbe-2bdc-445a-8226-3b45e6d4e2ef",
   "metadata": {},
   "source": [
    "# Longest Value    \n",
    "Write a function called longest_value that takes a dictionary as an argument and returns the first longest value of the dictionary. For example, the following dictionary should return \"apple\" as the longest value.\n",
    "fruits = {'fruit': 'apple', 'color': 'green'}"
   ]
  },
  {
   "cell_type": "code",
   "execution_count": 93,
   "id": "40955ecb-4917-4f6c-805d-2d1b116a09d6",
   "metadata": {},
   "outputs": [
    {
     "name": "stdout",
     "output_type": "stream",
     "text": [
      "The first longest value in the dictionary is apple\n"
     ]
    }
   ],
   "source": [
    "fruits = {'food':'egg','cereal':'peas','fruit':'apple','color':'green'}\n",
    "fruits.items()\n",
    "def longest_value (d):\n",
    "    longest=None\n",
    "    for val in d.values():\n",
    "        if longest is None or len(val) > len(longest):\n",
    "            longest = val\n",
    "    return longest\n",
    "\n",
    "# Worked out example\n",
    "print(f'The first longest value in the dictionary is {longest_value(fruits)}')"
   ]
  },
  {
   "cell_type": "markdown",
   "id": "f7bb86ab-610a-4509-847d-280df381d028",
   "metadata": {},
   "source": [
    "# Day 2\n",
    "# Strings to integers     \n",
    "\n",
    "Write a function called convert_add that takes a list of strings as an argument, converts them to integers, and sums the list. For example, [\"1\", \"3\", \"5\"] should be converted to [1, 3, 5] and summed to 9."
   ]
  },
  {
   "cell_type": "code",
   "execution_count": 103,
   "id": "cde8e61e-007e-4ff4-821e-bcf0294b4f7e",
   "metadata": {},
   "outputs": [
    {
     "name": "stdout",
     "output_type": "stream",
     "text": [
      " The sum of the numbers in the above list is: 9\n",
      " The sum of the numbers in the above list is: 90\n"
     ]
    }
   ],
   "source": [
    "list1 = ['1', '3', '5']\n",
    "list2 = ['10', '30', '50']\n",
    "def convert_add(n):\n",
    "    '''\n",
    "    This function converts the strings to integers \n",
    "    and sums them up\n",
    "    n - list of strings\n",
    "    '''\n",
    "    total = 0 # Initialise a counter with zero\n",
    "    for i in n:\n",
    "        total = total + int(i) # Loop through the items in the list updating the counter with next values in the list\n",
    "    return(total)\n",
    "\n",
    "# Application\n",
    "print(f' The sum of the numbers in the above list is: {convert_add(list1)}')\n",
    "print(f' The sum of the numbers in the above list is: {convert_add(list2)}')"
   ]
  },
  {
   "cell_type": "markdown",
   "id": "01a6ff14-838d-4eb5-812e-e0c893b6a5c9",
   "metadata": {},
   "source": [
    "# Alternatively "
   ]
  },
  {
   "cell_type": "code",
   "execution_count": 118,
   "id": "c1821b5b-c358-4048-bcb4-028a3b79c52a",
   "metadata": {},
   "outputs": [
    {
     "data": {
      "text/plain": [
       "90"
      ]
     },
     "execution_count": 118,
     "metadata": {},
     "output_type": "execute_result"
    }
   ],
   "source": [
    "# import functools\n",
    "# from functools import reduce\n",
    "# reduce(lambda x,y: int(x)+int(y), list1)\n",
    "def convert_add_lambda(n):\n",
    "    '''\n",
    "    Uses reduce from functools and lambda function\n",
    "    '''\n",
    "    import functools\n",
    "    from functools import reduce\n",
    "    ans = reduce(lambda x,y: int(x)+int(y), n)\n",
    "    return (ans)\n",
    "# Application\n",
    "convert_add_lambda(list2)"
   ]
  },
  {
   "cell_type": "markdown",
   "id": "27af3713-a938-43c8-bae3-d86779e1a303",
   "metadata": {},
   "source": [
    "# Alternatively"
   ]
  },
  {
   "cell_type": "code",
   "execution_count": 122,
   "id": "ffb8ec61-e571-481a-b22d-f61968278818",
   "metadata": {},
   "outputs": [
    {
     "data": {
      "text/plain": [
       "9"
      ]
     },
     "execution_count": 122,
     "metadata": {},
     "output_type": "execute_result"
    }
   ],
   "source": [
    "# Use reduce function\n",
    "def convert_add_listcomprehension(n):\n",
    "    ans=sum([int(i) for i in n])\n",
    "    return(ans)\n",
    "    \n",
    "convert_add_listcomprehension(list1)"
   ]
  },
  {
   "cell_type": "markdown",
   "id": "2e533c7f-3d2f-4990-b605-9372421948e9",
   "metadata": {},
   "source": [
    "# Duplicate Names    \n",
    "\n",
    "Write a function called check_duplicates that takes a list of strings as an argument. The function should check if the list has any duplicates. If there are duplicates, the function should return a list of duplicates. If there are no duplicates, the function should return \"no duplicates.\" For example, the list of fruits below should return [\"apple\", \"banana\"], and the list of names should return \"no duplicates.\"\n",
    "fruits = ['apple', 'orange', 'banana', 'apple', 'banana'] names = ['Yoda', 'Moses', 'Joshua', 'Mark']"
   ]
  },
  {
   "cell_type": "code",
   "execution_count": 158,
   "id": "13e1de53-3f0a-44da-ace0-77a84cc950f5",
   "metadata": {},
   "outputs": [
    {
     "name": "stdout",
     "output_type": "stream",
     "text": [
      "The fruit list has these duplicated items: ['apple', 'banana']\n",
      "This list of names has no duplicates: No duplicates\n"
     ]
    }
   ],
   "source": [
    "fruits = ['apple', 'orange', 'banana', 'apple', 'banana']\n",
    "names = ['Yoda', 'Moses', 'Joshua', 'Mark']\n",
    "\n",
    "def check_duplicates(list_items):\n",
    "    '''\n",
    "    The function takes a list and evaluates whether it has any duplicates\n",
    "    If not, return no duplicates if there are duplicates then return the dups\n",
    "    '''\n",
    "    dup = [] # Set an empty list to store duplicates\n",
    "    no_dup = [] # Set an empty list to store duplicates\n",
    "    if len(set(list_items)) == len(list_items):\n",
    "        #print('no duplicates')\n",
    "        resp='No duplicates'\n",
    "        return(resp)\n",
    "    elif len(set(list_items)) != len(list_items):\n",
    "        for item in list_items:\n",
    "            if item not in no_dup:\n",
    "                no_dup.append(item)\n",
    "            else:\n",
    "                dup.append(item)\n",
    "        return(dup)\n",
    "        \n",
    "# Application \n",
    "\n",
    "print(f'The fruit list has these duplicated items: {check_duplicates(fruits)}')\n",
    "print(f'This list of names has no duplicates: {check_duplicates(names)}') \n",
    "\n",
    "\n"
   ]
  },
  {
   "cell_type": "markdown",
   "id": "243ad80d-8ee9-456d-a868-9a98500003ec",
   "metadata": {},
   "source": [
    "# Day 3 : Register Check\n",
    "Write a function called register_check that checks how many students are in school. The function takes a dictionary as an argument. If the student is in school, the dictionary says \"yes.\" If the student is not in school, the dictionary says \"no.\" Your function should return the number of students in school. Using the dictionary below, your function should return 3."
   ]
  },
  {
   "cell_type": "code",
   "execution_count": 196,
   "id": "a90a51d7-dddc-4a67-9419-767fbe95feab",
   "metadata": {},
   "outputs": [
    {
     "name": "stdout",
     "output_type": "stream",
     "text": [
      "These are the total number of students who were present today:3\n"
     ]
    }
   ],
   "source": [
    "register = {'Michael':'yes', 'John': 'no',\n",
    "           'Peter': 'yes', 'Mary': 'yes'}\n",
    "\n",
    "def register_check(n):\n",
    "    '''\n",
    "    The function returns the number of students present that day.\n",
    "    argument - a dictionary\n",
    "    '''\n",
    "    present = []\n",
    "    for i in n.values():\n",
    "        if i == 'yes':\n",
    "            present.append(i)\n",
    "    return(len(present))\n",
    "\n",
    "# Application\n",
    "print(f'These are the total number of students who were present today:{register_check(register)}')\n",
    "    \n",
    "    "
   ]
  },
  {
   "cell_type": "markdown",
   "id": "de3726e3-4c63-414f-9a71-da517744d67e",
   "metadata": {},
   "source": [
    "# Lowercase\n",
    "\n",
    "You are given a list of names below. This list is made up of names with lowercase and uppercase letters. Your task is to write a code that will return a tuple of all the names in the list that only have lowercase letters. Your tuple should have names sorted alphabetically in descending order. Using the list above, your code should return:"
   ]
  },
  {
   "cell_type": "code",
   "execution_count": 194,
   "id": "6959600a-fc5a-4ba3-93d5-e668f8c3348f",
   "metadata": {},
   "outputs": [
    {
     "name": "stdout",
     "output_type": "stream",
     "text": [
      " These are the names lowercase, ordered in reverse and a tuple output: ('rose', 'mary', 'kerry', 'john', 'dickson', 'carol', 'adam')\n",
      " These are the names lowercase, ordered in reverse and a tuple output: ('yo', 'winfred', 'si', 'nyoroka', 'grace', 'gatua', ' florence')\n"
     ]
    }
   ],
   "source": [
    "\n",
    "names = [\"kerry\", \"dickson\", \"John\", \"Mary\", \"carol\", \"Rose\", \"adam\"]\n",
    "names2 = ['winfred', 'Nyoroka', 'Gatua', 'grace',' Florence', 'Si', 'Yo']\n",
    "def lowercase(list1):\n",
    "    '''\n",
    "    This  function takes in a list of names\n",
    "    Makes them lowercase, order by descending, and convert to type tuple\n",
    "    '''\n",
    "    Name = []\n",
    "    for name in list1:\n",
    "        name = name.lower() # Make lowercase\n",
    "        Name.append(name)\n",
    "    ans = tuple(sorted(Name,reverse=True)) # descending order and tuple type\n",
    "    return(ans)\n",
    "\n",
    "# Application\n",
    "\n",
    "print(f' These are the names lowercase, ordered in reverse and a tuple output: {lowercase(names)}')\n",
    "print(f' These are the names lowercase, ordered in reverse and a tuple output: {lowercase(names2)}')"
   ]
  },
  {
   "cell_type": "markdown",
   "id": "32f06f55-bf68-429c-b27d-5563beab7c08",
   "metadata": {},
   "source": [
    "# Day 4: Only Float\n",
    "\n",
    "Write a function called only_floats, which has two parameters, a and b, and returns 2 if both arguments are floats, 1 if only one argument is a float, and 0 if neither argument is a float. If you pass (12.1, 23) as an argument, your function should return 1.\n"
   ]
  },
  {
   "cell_type": "code",
   "execution_count": 212,
   "id": "5c13dd05-25f7-450c-8ff9-fc6dcb205cef",
   "metadata": {},
   "outputs": [
    {
     "name": "stdout",
     "output_type": "stream",
     "text": [
      "Both non-float: 0\n",
      "One float and a non-float: 1\n",
      "Both float: 2\n"
     ]
    }
   ],
   "source": [
    "def only_floats(a,b):\n",
    "    if type(a)==float and type(b)==float:\n",
    "        return(2)\n",
    "    elif type(a)!=type(b):\n",
    "        return(1)\n",
    "    elif type(a) !=float and type(b)!=float:\n",
    "        return(0)\n",
    "# Application\n",
    "print(f'Both non-float: {only_floats(\"3.0\",\"2\")}')\n",
    "print(f'One float and a non-float: {only_floats(3.0,\"2\")}')\n",
    "print(f'Both float: {only_floats(3.0,1.5)}')"
   ]
  },
  {
   "cell_type": "markdown",
   "id": "150bbcb2-a050-425e-8af5-70aacc210617",
   "metadata": {},
   "source": [
    "# Index of the longest word     \n",
    "\n",
    "Write a function called word_index that takes one argument, a list of strings, and returns the index of the longest word in the list. If there is no longest word (if all the strings are of the same length), the function should return zero (0). For example, the first list below should return 2.\n",
    "words1 = [\"Hate\", \"remorse\", \"vengeance\"]\n",
    "And this list below, should return zero (0)\n",
    "words2 = [\"Love\", \"Hate\"]"
   ]
  },
  {
   "cell_type": "code",
   "execution_count": 239,
   "id": "2b6f1036-5368-4bd5-83af-cc3622849b89",
   "metadata": {},
   "outputs": [
    {
     "name": "stdout",
     "output_type": "stream",
     "text": [
      "The index of the longest word is: 0 and the word itself is Winfred Nyoroka Gatua\n"
     ]
    }
   ],
   "source": [
    "def word_index(list1):\n",
    "    longword = list1[0] # Assign the first value to the longword variable\n",
    "    for word in list1:\n",
    "        if  len(word) > len(longword): #\n",
    "            longword = word # Updates the variable\n",
    "    return(list1.index(word))\n",
    "    \n",
    "# Application\n",
    "words1 = ['Winfred Nyoroka Gatua', \"Hate\",  \"remorse\",  \"vengeance\", 'Winfred Nyoroka Gatua'] \n",
    "\n",
    "print(f'The index of the longest word is: {word_index(words1)} and the word itself is {words1[word_index(words1)]}')\n",
    "    "
   ]
  },
  {
   "cell_type": "code",
   "execution_count": 240,
   "id": "ea6d3592-8048-41dc-8efb-a146f3f52acb",
   "metadata": {},
   "outputs": [
    {
     "data": {
      "text/plain": [
       "1"
      ]
     },
     "execution_count": 240,
     "metadata": {},
     "output_type": "execute_result"
    }
   ],
   "source": [
    "words2 = [\"Love\", \"Hate\"]\n",
    "word_index(words2)"
   ]
  },
  {
   "cell_type": "markdown",
   "id": "9959b99a-a2f1-4274-b9a0-b2b36586510a",
   "metadata": {},
   "source": [
    "# Day 5: My Discount\n",
    "\n",
    "- Create a function called my_discount. The function takes no arguments but asks the user to input the price and the discount (percentage) of the product. Once the user inputs the price and discount, it calculates the price after the discount. The function should return the price after the discount. For example, if the user enters 150 as the price and 15% as the discount, your function should return 127.5.\n"
   ]
  },
  {
   "cell_type": "code",
   "execution_count": 17,
   "id": "d251436a-07cc-4040-acfc-adbd3d324548",
   "metadata": {},
   "outputs": [
    {
     "name": "stdin",
     "output_type": "stream",
     "text": [
      "Hey, please enter the current cost of the product:  150\n",
      "Hey, please enter the discount of the product:  15\n"
     ]
    },
    {
     "name": "stdout",
     "output_type": "stream",
     "text": [
      "The current discounted price is: 127.5\n"
     ]
    }
   ],
   "source": [
    "def my_discount():\n",
    "\n",
    "    '''\n",
    "    This func has no arguments but will prompt the user to enter the current cost of an item\n",
    "    and the discount\n",
    "    This function will compute the current cost after discount\n",
    "    '''\n",
    "    current_price = input('Hey, please enter the current cost of the product: ')\n",
    "    #print(f'The current price is: {current_price}')\n",
    "    \n",
    "    discount = input('Hey, please enter the discount of the product: ')\n",
    "    #print(f'The percentage discount is is: {discount}%')\n",
    "\n",
    "    # Calculate the discounted price and ensure you convert the strings to integers\n",
    "    discounted_price = int(current_price) - ((int(discount)/100)* int(current_price))\n",
    "    return discounted_price\n",
    "# discounted_price \n",
    "print(f'The current discounted price is: {my_discount()}')\n"
   ]
  },
  {
   "cell_type": "code",
   "execution_count": null,
   "id": "48ea7917-9dab-488b-a823-daaaf4ef7dc5",
   "metadata": {},
   "outputs": [],
   "source": []
  }
 ],
 "metadata": {
  "kernelspec": {
   "display_name": "Python 3 (ipykernel)",
   "language": "python",
   "name": "python3"
  },
  "language_info": {
   "codemirror_mode": {
    "name": "ipython",
    "version": 3
   },
   "file_extension": ".py",
   "mimetype": "text/x-python",
   "name": "python",
   "nbconvert_exporter": "python",
   "pygments_lexer": "ipython3",
   "version": "3.11.7"
  }
 },
 "nbformat": 4,
 "nbformat_minor": 5
}
